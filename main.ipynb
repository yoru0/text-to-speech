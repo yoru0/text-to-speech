{
  "cells": [
    {
      "cell_type": "markdown",
      "metadata": {},
      "source": [
        "## Speech To Text"
      ]
    },
    {
      "cell_type": "code",
      "execution_count": null,
      "metadata": {
        "colab": {
          "base_uri": "https://localhost:8080/"
        },
        "id": "QkErDa70aAI8",
        "outputId": "c15c7614-daec-47a4-f5d8-c516d46551a3"
      },
      "outputs": [
        {
          "name": "stderr",
          "output_type": "stream",
          "text": [
            "Some weights of Wav2Vec2ForCTC were not initialized from the model checkpoint at facebook/wav2vec2-base-960h and are newly initialized: ['wav2vec2.masked_spec_embed']\n",
            "You should probably TRAIN this model on a down-stream task to be able to use it for predictions and inference.\n",
            "The tokenizer class you load from this checkpoint is not the same type as the class this function is called from. It may result in unexpected tokenization. \n",
            "The tokenizer class you load from this checkpoint is 'Wav2Vec2CTCTokenizer'. \n",
            "The class this function is called from is 'Wav2Vec2Tokenizer'.\n"
          ]
        },
        {
          "name": "stdout",
          "output_type": "stream",
          "text": [
            "[ 1.5941411e-06 -1.0580342e-05 -3.1768568e-06 ... -1.9331981e-03\n",
            " -1.8884519e-03  0.0000000e+00]\n",
            "tensor([[ 1.3075e-04, -8.6259e-05,  4.5707e-05,  ..., -3.4357e-02,\n",
            "         -3.3559e-02,  1.0233e-04]])\n",
            "torch.Size([1, 917, 32])\n",
            "tensor([[ 0,  0,  0,  0,  0,  0,  0,  0,  0,  0,  0,  0,  0,  0,  0,  0,  0,  0,\n",
            "          0,  0,  0,  0,  0,  0,  0,  0,  0,  0,  0,  0,  0,  0,  0,  0,  0,  0,\n",
            "          0,  0,  0,  0,  0,  0,  0,  0,  0,  0,  0,  0,  0,  0,  0,  0,  0,  0,\n",
            "          0,  0,  0,  0,  0,  0,  0,  0,  0,  0,  0,  0,  0,  0,  6, 11, 11,  0,\n",
            "          5,  0,  4,  4,  0,  0,  0, 12,  0,  6,  0,  0,  0,  0,  7,  0,  0,  0,\n",
            "         15, 15,  5,  0,  0,  4,  4,  0,  0, 12,  0,  0,  0, 17,  0,  0,  0,  5,\n",
            "          5, 15, 15,  0,  0, 15,  0,  0,  4,  4,  8, 20,  4,  4,  4,  4,  4,  0,\n",
            "          0,  0,  0,  0,  0,  8,  0, 15, 15, 14, 14,  0,  4,  4,  0, 24,  0,  0,\n",
            "          0,  5,  0,  5, 13, 13, 13,  0,  0,  4,  4,  0, 15, 15,  0,  0, 10,  9,\n",
            "          0,  0, 21,  0,  0,  0,  5, 13, 13, 13,  0,  0,  0, 12,  0,  4,  4,  0,\n",
            "          0,  0,  0,  0,  0,  0,  0,  0,  0,  0,  0,  0,  0,  0,  0,  0,  0,  0,\n",
            "          0,  0,  0,  0,  0,  0,  0,  0,  0,  0,  0,  0,  0,  0,  0,  0,  0,  0,\n",
            "          0,  0,  0,  0,  0,  0,  0, 10,  6,  6,  4,  4,  0,  6,  6,  0,  0,  0,\n",
            "          7,  0, 26,  0,  5,  5,  0, 12, 12,  4,  4,  4,  0, 11, 11,  0,  5,  0,\n",
            "          0,  7,  0,  0,  6,  0,  4,  4,  4,  0,  0,  6,  0,  8,  8,  4,  4,  0,\n",
            "         24,  0, 13,  0, 10,  9,  9, 21,  0,  4,  4,  0,  0,  8, 16,  0,  6,  0,\n",
            "          4,  4,  4,  6, 11,  0,  5,  0,  4,  4,  0,  0,  0,  0,  8,  0,  0, 14,\n",
            "          0,  0,  8,  0, 13, 13,  4,  4,  4,  0,  0,  0,  0,  0,  0,  0,  0,  0,\n",
            "          0,  0,  0,  0,  0,  0,  0,  0,  0,  0,  0,  0,  0,  0,  0,  0,  0,  0,\n",
            "          0,  0,  0,  0,  0,  0,  0,  0,  0,  0,  0,  0,  7,  0,  4,  4,  0,  0,\n",
            "          0, 19,  0,  0,  0,  0,  8,  8,  0, 15, 15,  0, 14,  0,  4,  4,  4,  0,\n",
            "          0, 14,  0,  0,  0,  0,  0, 10,  0,  0, 23, 23,  0,  0,  4,  0,  0,  0,\n",
            "          0,  0,  0,  0,  0,  0,  0, 13, 13,  0,  5,  5,  0, 12, 12,  6,  0,  0,\n",
            "          8,  8, 13, 13,  0,  5,  0, 12, 12,  4,  4,  4, 11, 11,  0,  0,  5,  7,\n",
            "          7, 15, 15,  0,  6, 11, 11,  4,  4,  4,  0,  0,  7,  9, 14,  0,  4,  0,\n",
            "          0, 31,  0,  0,  0,  0,  0,  0,  5,  0,  0, 12, 12,  0,  0,  0,  6,  0,\n",
            "          0,  4,  4,  0,  0,  0,  0,  0,  0,  0,  0,  0,  0,  0,  0,  0,  0,  0,\n",
            "          0,  0,  0,  0,  0,  0,  0,  0,  0,  0,  0,  0,  0,  0,  0,  0,  7,  0,\n",
            "          0,  4,  4,  0,  0,  0,  0, 12,  0,  0,  0,  0,  7,  0, 15, 15,  0,  6,\n",
            "          6,  0,  4,  4,  0,  0,  0,  0, 23,  0,  0,  0, 10, 19,  0, 26,  0,  0,\n",
            "          0, 15, 15,  5,  5,  0,  4,  4,  4,  0,  0,  0,  6,  0,  0,  0,  0,  7,\n",
            "          0,  0, 12,  6,  0,  5, 12, 12,  4,  0, 20,  0,  0,  0,  0,  0, 10,  0,\n",
            "          9,  9,  5,  4,  4,  0, 18, 10,  6, 11, 11,  4,  4, 11, 11,  0,  0,  0,\n",
            "          0,  7,  0,  0,  0, 17,  0,  0,  4,  4,  4,  0,  0,  0,  0,  0,  0,  0,\n",
            "          0,  0,  0,  0,  0,  0,  0,  0,  0,  0,  0,  0,  0,  0,  0,  0,  0,  0,\n",
            "          0,  0,  0,  6,  0,  0,  0,  7,  0,  0,  0, 26,  0,  0,  0,  8,  0,  0,\n",
            "          0, 12,  0,  4,  7,  0,  0, 15,  0,  0,  0,  4, 23,  0,  0,  0,  7,  0,\n",
            "          0, 12, 12,  0,  6,  6,  0,  0,  0,  0,  8,  0, 13, 13,  0,  5,  0,  4,\n",
            "          4,  0,  7, 13, 13,  5,  5,  4,  4, 17,  0,  0, 22,  0,  4,  4,  4, 20,\n",
            "          0,  0,  0,  7,  0,  0, 25,  0,  0,  8,  0,  0, 13, 13,  0, 10,  0,  6,\n",
            "          0,  5,  4,  4,  0,  0,  0,  0,  0,  0,  0,  0,  0,  0,  0,  0,  0,  0,\n",
            "          0,  0,  0,  0,  0,  0,  0,  0,  0,  0,  0,  0,  0,  0,  0,  0,  0,  0,\n",
            "          0,  0,  0,  7,  0,  4,  4,  0,  0, 31,  0,  0,  0,  5,  0, 12, 12,  0,\n",
            "          6,  6,  0,  0, 20,  0,  0,  0, 16, 15,  0,  0,  4,  4,  0, 20, 20,  8,\n",
            "          8,  0,  0,  0,  0,  8,  8,  0, 14, 14,  0,  4,  4,  4,  0,  0,  0,  0,\n",
            "          0,  0,  0,  0,  0,  0,  0, 10, 12, 12,  4,  4,  0,  6, 11,  0,  5,  4,\n",
            "          4,  4, 11,  0,  0,  0,  8,  0,  0,  0,  6,  0,  4,  0,  0,  0,  0, 19,\n",
            "          0, 13, 13,  0,  0,  8, 12, 12,  0,  0,  0, 12,  0,  0,  4,  4,  0,  0,\n",
            "         24,  0,  0,  0,  0, 16,  0,  0,  9,  9,  0,  0,  0,  4,  4,  0,  0,  0,\n",
            "          0,  0,  0,  0,  0,  0,  0,  0,  0,  0,  0,  0,  0,  0,  0,  0,  0,  0,\n",
            "          0,  0,  0,  0,  0,  0,  0,  0,  0,  0,  0,  0,  0,  0,  0,  0,  0]])\n",
            "THE STALE SMELL OF OLD BEER LINGERS IT TAKES HEAT TO BRING OUT THE ODOR A COLD DIP RESTORES HEALTH AND ZEST A SALT PICKLE TASTES FINE WITH HAM TAKOS AL PASTORE ARE MY FAVORITE A ZESTFUL FOOD IS THE HOT CROSS BUN\n"
          ]
        }
      ],
      "source": [
        "import librosa\n",
        "import torch\n",
        "from transformers import Wav2Vec2ForCTC, Wav2Vec2Tokenizer\n",
        "\n",
        "model = Wav2Vec2ForCTC.from_pretrained(\"facebook/wav2vec2-base-960h\")\n",
        "tokenizer = Wav2Vec2Tokenizer.from_pretrained(\"facebook/wav2vec2-base-960h\")\n",
        "\n",
        "audio_path = 'test.wav'\n",
        "\n",
        "audio, sr = librosa.load(audio_path, sr=16000)\n",
        "\n",
        "print(audio)\n",
        "\n",
        "input_values = tokenizer(audio, return_tensors=\"pt\").input_values\n",
        "\n",
        "print(input_values)\n",
        "\n",
        "logits = model(input_values).logits\n",
        "\n",
        "print(logits.shape)\n",
        "\n",
        "predicted_ids = torch.argmax(logits, dim=-1)\n",
        "\n",
        "print(predicted_ids)\n",
        "\n",
        "transcription = tokenizer.batch_decode(predicted_ids)[0]\n",
        "\n",
        "print(transcription)"
      ]
    },
    {
      "cell_type": "markdown",
      "metadata": {},
      "source": [
        "## Text To Speech"
      ]
    },
    {
      "cell_type": "code",
      "execution_count": null,
      "metadata": {
        "colab": {
          "base_uri": "https://localhost:8080/"
        },
        "id": "xQ4RBN3_fGjh",
        "outputId": "2fd3b216-953a-4cf4-90f5-f787e26882ee"
      },
      "outputs": [
        {
          "name": "stdout",
          "output_type": "stream",
          "text": [
            "Collecting gTTS\n",
            "  Downloading gTTS-2.5.4-py3-none-any.whl.metadata (4.1 kB)\n",
            "Requirement already satisfied: requests<3,>=2.27 in /usr/local/lib/python3.11/dist-packages (from gTTS) (2.32.3)\n",
            "Requirement already satisfied: click<8.2,>=7.1 in /usr/local/lib/python3.11/dist-packages (from gTTS) (8.1.8)\n",
            "Requirement already satisfied: charset-normalizer<4,>=2 in /usr/local/lib/python3.11/dist-packages (from requests<3,>=2.27->gTTS) (3.4.1)\n",
            "Requirement already satisfied: idna<4,>=2.5 in /usr/local/lib/python3.11/dist-packages (from requests<3,>=2.27->gTTS) (3.10)\n",
            "Requirement already satisfied: urllib3<3,>=1.21.1 in /usr/local/lib/python3.11/dist-packages (from requests<3,>=2.27->gTTS) (2.4.0)\n",
            "Requirement already satisfied: certifi>=2017.4.17 in /usr/local/lib/python3.11/dist-packages (from requests<3,>=2.27->gTTS) (2025.4.26)\n",
            "Downloading gTTS-2.5.4-py3-none-any.whl (29 kB)\n",
            "Installing collected packages: gTTS\n",
            "Successfully installed gTTS-2.5.4\n"
          ]
        }
      ],
      "source": [
        "!pip install gTTS"
      ]
    },
    {
      "cell_type": "code",
      "execution_count": null,
      "metadata": {
        "id": "NO1nqQeEiWB-"
      },
      "outputs": [],
      "source": [
        "from gtts import gTTS\n",
        "\n",
        "text = 'THE STALE SMELL OF OLD BEER LINGERS IT TAKES HEAT TO BRING OUT THE ODOR A COLD DIP RESTORES HEALTH AND ZEST A SALT PICKLE TASTES FINE WITH HAM TAKOS AL PASTORE ARE MY FAVORITE A ZESTFUL FOOD IS THE HOT CROSS BUN'\n",
        "\n",
        "language = 'en'\n",
        "\n",
        "englishAudio = gTTS(text=text, lang=language, tld='com.au', slow=False)\n",
        "\n",
        "englishAudio.save('english.mp3')"
      ]
    }
  ],
  "metadata": {
    "colab": {
      "provenance": []
    },
    "kernelspec": {
      "display_name": "Python 3",
      "name": "python3"
    },
    "language_info": {
      "name": "python"
    }
  },
  "nbformat": 4,
  "nbformat_minor": 0
}
